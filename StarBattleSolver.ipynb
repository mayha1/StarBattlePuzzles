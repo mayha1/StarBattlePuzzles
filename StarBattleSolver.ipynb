{
 "cells": [
  {
   "cell_type": "code",
   "execution_count": 9,
   "metadata": {},
   "outputs": [
    {
     "name": "stdout",
     "output_type": "stream",
     "text": [
      "Requirement already satisfied: gurobipy in c:\\users\\thanh\\appdata\\local\\programs\\python\\python310\\lib\\site-packages (10.0.1)\n"
     ]
    },
    {
     "name": "stderr",
     "output_type": "stream",
     "text": [
      "\n",
      "[notice] A new release of pip available: 22.2.1 -> 23.0.1\n",
      "[notice] To update, run: python.exe -m pip install --upgrade pip\n"
     ]
    },
    {
     "name": "stdout",
     "output_type": "stream",
     "text": [
      "Requirement already satisfied: numpy in c:\\users\\thanh\\appdata\\local\\programs\\python\\python310\\lib\\site-packages (1.24.2)\n"
     ]
    },
    {
     "name": "stderr",
     "output_type": "stream",
     "text": [
      "\n",
      "[notice] A new release of pip available: 22.2.1 -> 23.0.1\n",
      "[notice] To update, run: python.exe -m pip install --upgrade pip\n"
     ]
    }
   ],
   "source": [
    "!pip install gurobipy\n",
    "!pip install numpy"
   ]
  },
  {
   "attachments": {},
   "cell_type": "markdown",
   "metadata": {},
   "source": [
    "Import libraries"
   ]
  },
  {
   "cell_type": "code",
   "execution_count": 10,
   "metadata": {},
   "outputs": [],
   "source": [
    "import itertools\n",
    "\n",
    "import gurobipy as gp\n",
    "from gurobipy import GRB\n",
    "import numpy as np"
   ]
  },
  {
   "cell_type": "code",
   "execution_count": 13,
   "metadata": {},
   "outputs": [
    {
     "ename": "TypeError",
     "evalue": "float() argument must be a string or a real number, not 'Var'",
     "output_type": "error",
     "traceback": [
      "\u001b[1;31m---------------------------------------------------------------------------\u001b[0m",
      "\u001b[1;31mTypeError\u001b[0m                                 Traceback (most recent call last)",
      "Cell \u001b[1;32mIn[13], line 9\u001b[0m\n\u001b[0;32m      7\u001b[0m \u001b[39mfor\u001b[39;00m i \u001b[39min\u001b[39;00m \u001b[39mrange\u001b[39m(n):\n\u001b[0;32m      8\u001b[0m     \u001b[39mfor\u001b[39;00m j \u001b[39min\u001b[39;00m \u001b[39mrange\u001b[39m(n):\n\u001b[1;32m----> 9\u001b[0m         T[i][j] \u001b[39m=\u001b[39m model\u001b[39m.\u001b[39maddVar(lb \u001b[39m=\u001b[39m \u001b[39m0\u001b[39m, ub \u001b[39m=\u001b[39m \u001b[39m1\u001b[39m, vtype \u001b[39m=\u001b[39m GRB\u001b[39m.\u001b[39mINTEGER)\n\u001b[0;32m     11\u001b[0m \u001b[39m#sum of numbers in each rows must be 1\u001b[39;00m\n\u001b[0;32m     12\u001b[0m \u001b[39mfor\u001b[39;00m i \u001b[39min\u001b[39;00m \u001b[39mrange\u001b[39m(n):\n",
      "\u001b[1;31mTypeError\u001b[0m: float() argument must be a string or a real number, not 'Var'"
     ]
    }
   ],
   "source": [
    "model = gp.Model('StarBattle')\n",
    "# # setup other parameters\n",
    "# model.Params.DisplayInterval = 300\n",
    "# model.Params.TimeLimit = 10\n",
    "n = 8\n",
    "T = np.zeros((n,n))\n",
    "for i in range(n):\n",
    "    for j in range(n):\n",
    "        T[i][j] = model.addVar(lb = 0, ub = 1, vtype = GRB.INTEGER)\n",
    "\n",
    "#sum of numbers in each rows must be 1\n",
    "for i in range(n):\n",
    "    constraint = 0\n",
    "    for j in range(n):\n",
    "        constraint += T[i][j]\n",
    "    model.addConstr(constraint == 1)\n",
    "\n",
    "#sum of numbers in each columns must be 1\n",
    "for i in range(n):\n",
    "    constraint = 0\n",
    "    for j in range(n):\n",
    "        constraint += T[j][i]\n",
    "    model.addConstr(constraint == 1)\n",
    "#sum of numbers in the adjacent cells <= 1\n",
    "\n",
    "#for i in range(n):\n",
    "    #for j in range(n):\n",
    "        #if i + 1 < n and j + 1 < n:\n",
    "            #model.addConstr(T[i][j] + T[i+1][j+1] <= 1)\n",
    "#for i in range(n):\n",
    "    #for j in range(n):\n",
    "        #if i + 1 < n and j - 1 > -1:\n",
    "            #model.addConstr(T[i][j] + T[i+1][j-1] <= 1)\n",
    "\n",
    "        \n",
    "\n",
    "for i in range(n-1):\n",
    "    for j in range(n):\n",
    "        model.addConstr(T[i][j] + T[i + 1][j] <= 1)\n",
    "for i in range(n):\n",
    "    for j in range(n-1):\n",
    "        model.addConstr(T[i][j] + T[i][j + 1] <= 1)\n",
    "for i in range(n-1):\n",
    "    for j in range(n-1):\n",
    "        model.addConstr(T[i][j] + T[i + 1][j + 1] <= 1)\n",
    "for i in range(n-1):\n",
    "    for j in range(n-1):\n",
    "        model.addConstr(T[n-1 - i][n-1 - j] + T[n-2 - i][n-2 - j] <= 1)\n",
    "model.setObjective(T[0][0], sense = GRB.MAXIMIZE)\n",
    "\n",
    "\n",
    "model.optimize()\n",
    "print('-' * 50)\n",
    "if model.status == GRB.OPTIMAL:\n",
    "    print('The status meaning is OPTIMAL')\n",
    "print(f'model status: {model.status}')\n",
    "print(f'model runtime: {model.runtime}')\n",
    "# use the syntax foo.x to access the optimal value of foo\n",
    "#print(f'x: {x.x}')\n",
    "#print(f'y: {y.x}')"
   ]
  }
 ],
 "metadata": {
  "kernelspec": {
   "display_name": "Python 3",
   "language": "python",
   "name": "python3"
  },
  "language_info": {
   "codemirror_mode": {
    "name": "ipython",
    "version": 3
   },
   "file_extension": ".py",
   "mimetype": "text/x-python",
   "name": "python",
   "nbconvert_exporter": "python",
   "pygments_lexer": "ipython3",
   "version": "3.10.6"
  },
  "orig_nbformat": 4,
  "vscode": {
   "interpreter": {
    "hash": "6118f8b0c334f391d84970982c520357315f884dbe29af70b7d2e69871c6f541"
   }
  }
 },
 "nbformat": 4,
 "nbformat_minor": 2
}
