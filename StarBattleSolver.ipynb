{
 "cells": [
  {
   "cell_type": "code",
   "execution_count": 1,
   "metadata": {},
   "outputs": [
    {
     "name": "stdout",
     "output_type": "stream",
     "text": [
      "Requirement already satisfied: gurobipy in c:\\users\\asus\\appdata\\local\\programs\\python\\python311\\lib\\site-packages (10.0.1)\n"
     ]
    },
    {
     "name": "stderr",
     "output_type": "stream",
     "text": [
      "\n",
      "[notice] A new release of pip is available: 23.0 -> 23.0.1\n",
      "[notice] To update, run: python.exe -m pip install --upgrade pip\n"
     ]
    },
    {
     "name": "stdout",
     "output_type": "stream",
     "text": [
      "Requirement already satisfied: numpy in c:\\users\\asus\\appdata\\local\\programs\\python\\python311\\lib\\site-packages (1.24.1)"
     ]
    },
    {
     "name": "stderr",
     "output_type": "stream",
     "text": [
      "\n",
      "[notice] A new release of pip is available: 23.0 -> 23.0.1\n",
      "[notice] To update, run: python.exe -m pip install --upgrade pip\n"
     ]
    },
    {
     "name": "stdout",
     "output_type": "stream",
     "text": [
      "\n"
     ]
    }
   ],
   "source": [
    "!pip install gurobipy\n",
    "!pip install numpy"
   ]
  },
  {
   "attachments": {},
   "cell_type": "markdown",
   "metadata": {},
   "source": [
    "Import libraries"
   ]
  },
  {
   "cell_type": "code",
   "execution_count": 2,
   "metadata": {},
   "outputs": [],
   "source": [
    "import itertools\n",
    "\n",
    "import gurobipy as gp\n",
    "from gurobipy import GRB\n",
    "import numpy as np"
   ]
  },
  {
   "cell_type": "code",
   "execution_count": 10,
   "metadata": {},
   "outputs": [
    {
     "name": "stdout",
     "output_type": "stream",
     "text": [
      "Gurobi Optimizer version 10.0.1 build v10.0.1rc0 (win64)\n",
      "\n",
      "CPU model: 11th Gen Intel(R) Core(TM) i5-1135G7 @ 2.40GHz, instruction set [SSE2|AVX|AVX2|AVX512]\n",
      "Thread count: 4 physical cores, 8 logical processors, using up to 8 threads\n",
      "\n",
      "Optimize a model with 226 rows, 64 columns and 436 nonzeros\n",
      "Model fingerprint: 0xd835f833\n",
      "Variable types: 0 continuous, 64 integer (0 binary)\n",
      "Coefficient statistics:\n",
      "  Matrix range     [1e+00, 8e+00]\n",
      "  Objective range  [1e+00, 1e+00]\n",
      "  Bounds range     [1e+00, 1e+00]\n",
      "  RHS range        [1e+00, 1e+00]\n",
      "Presolve removed 0 rows and 56 columns\n",
      "Presolve time: 0.02s\n",
      "\n",
      "Explored 0 nodes (0 simplex iterations) in 0.06 seconds (0.00 work units)\n",
      "Thread count was 1 (of 8 available processors)\n",
      "\n",
      "Solution count 0\n",
      "No other solutions better than -1e+100\n",
      "\n",
      "Model is infeasible\n",
      "Best objective -, best bound -, gap -\n",
      "--------------------------------------------------\n",
      "model status: 3\n",
      "model runtime: 0.06699991226196289\n"
     ]
    }
   ],
   "source": [
    "model = gp.Model('StarBattle')\n",
    "# # setup other parameters\n",
    "# model.Params.DisplayInterval = 300\n",
    "# model.Params.TimeLimit = 10\n",
    "n = 8\n",
    "T = [[0] * n] * n\n",
    "for i in range(n):\n",
    "    for j in range(n):\n",
    "        T[i][j] = model.addVar(lb = 0, ub = 1, vtype = GRB.INTEGER)\n",
    "\n",
    "#sum of numbers in each rows must be 1\n",
    "for i in range(n):\n",
    "    constraint = 0\n",
    "    for j in range(n):\n",
    "        constraint += T[i][j]\n",
    "    model.addConstr(constraint == 1)\n",
    "\n",
    "#sum of numbers in each columns must be 1\n",
    "for i in range(n):\n",
    "    constraint = 0\n",
    "    for j in range(n):\n",
    "        constraint += T[j][i]\n",
    "    model.addConstr(constraint == 1)\n",
    "#sum of numbers in the adjacent cells <= 1\n",
    "\n",
    "#for i in range(n):\n",
    "    #for j in range(n):\n",
    "        #if i + 1 < n and j + 1 < n:\n",
    "            #model.addConstr(T[i][j] + T[i+1][j+1] <= 1)\n",
    "#for i in range(n):\n",
    "    #for j in range(n):\n",
    "        #if i + 1 < n and j - 1 > -1:\n",
    "            #model.addConstr(T[i][j] + T[i+1][j-1] <= 1)\n",
    "\n",
    "        \n",
    "\n",
    "for i in range(n-1):\n",
    "    for j in range(n):\n",
    "        model.addConstr(T[i][j] + T[i + 1][j] <= 1)\n",
    "for i in range(n):\n",
    "    for j in range(n-1):\n",
    "        model.addConstr(T[i][j] + T[i][j + 1] <= 1)\n",
    "for i in range(n-1):\n",
    "    for j in range(n-1):\n",
    "        model.addConstr(T[i][j] + T[i + 1][j + 1] <= 1)\n",
    "for i in range(n-1):\n",
    "    for j in range(n-1):\n",
    "        model.addConstr(T[n-1 - i][n-1 - j] + T[n-2 - i][n-2 - j] <= 1)\n",
    "model.setObjective(T[0][0], sense = GRB.MAXIMIZE)\n",
    "\n",
    "\n",
    "model.optimize()\n",
    "print('-' * 50)\n",
    "if model.status == GRB.OPTIMAL:\n",
    "    print('The status meaning is OPTIMAL')\n",
    "print(f'model status: {model.status}')\n",
    "print(f'model runtime: {model.runtime}')\n",
    "# use the syntax foo.x to access the optimal value of foo\n",
    "#print(f'x: {x.x}')\n",
    "#print(f'y: {y.x}')"
   ]
  }
 ],
 "metadata": {
  "kernelspec": {
   "display_name": "Python 3",
   "language": "python",
   "name": "python3"
  },
  "language_info": {
   "codemirror_mode": {
    "name": "ipython",
    "version": 3
   },
   "file_extension": ".py",
   "mimetype": "text/x-python",
   "name": "python",
   "nbconvert_exporter": "python",
   "pygments_lexer": "ipython3",
   "version": "3.11.1"
  },
  "orig_nbformat": 4,
  "vscode": {
   "interpreter": {
    "hash": "318f2c383d48220c821fefd227250c35bb828f95042f5889a5ad1704b1baf79c"
   }
  }
 },
 "nbformat": 4,
 "nbformat_minor": 2
}
