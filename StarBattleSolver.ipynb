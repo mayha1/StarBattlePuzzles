{
 "cells": [
  {
   "cell_type": "code",
   "execution_count": null,
   "metadata": {},
   "outputs": [],
   "source": [
    "model = gp.Model('StarBattle')\n",
    "# # setup other parameters\n",
    "# model.Params.DisplayInterval = 300\n",
    "# model.Params.TimeLimit = 10\n",
    "\n",
    "T = [[0] * 5] * 5\n",
    "for i in range(5):\n",
    "    for j in range(5):\n",
    "        T[i][j] = model.addVar(lb = 0, ub = 1, vtype = GRB.INTEGER)\n",
    "\n",
    "for i in range(5):\n",
    "    model.addConstr(T[i][0] + T[i][1] + T[i][2] + T[i][3] + T[i][4] == 1)\n",
    "    model.addConstr(T[0][i] + T[1][i] + T[2][i] + T[3][i] + T[4][i] == 1)\n",
    "model.addConstr(T[0][0] + T[1][0] == 1)\n",
    "model.addConstr(T[0][1] + T[0][2] + T[1][1] + T[2][0] + T[2][1] + T[3][0] == 1)\n",
    "model.addConstr(T[0][3] + T[0][4] + T[1][2] + T[1][3] + T[1][4] + T[2][2] + T[2][3] == 1)\n",
    "model.addConstr(T[3][1] + T[4][0] + T[4][1] == 1)\n",
    "model.addConstr(T[2][4] + T[3][2] + T[3][3] + T[3][4] + T[4][2] + T[4][3] + T[4][4] == 1)\n",
    "for i in range(4):\n",
    "    for j in range(5):\n",
    "        model.addConstr(T[i][j] + T[i + 1][j] <= 1)\n",
    "for i in range(5):\n",
    "    for j in range(4):\n",
    "        model.addConstr(T[i][j] + T[i][j + 1] <= 1)\n",
    "for i in range(4):\n",
    "    for j in range(4):\n",
    "        model.addConstr(T[i][j] + T[i + 1][j + 1] <= 1)\n",
    "for i in range(4):\n",
    "    for j in range(4):\n",
    "        model.addConstr(T[4 - i][4 - j] + T[3 - i][3 - j] <= 1)\n",
    "model.setObjective(T[0][0], sense = GRB.MAXIMIZE)\n",
    "\n",
    "\n",
    "model.optimize()\n",
    "print('-' * 50)\n",
    "if model.status == GRB.OPTIMAL:\n",
    "    print('The status meaning is OPTIMAL')\n",
    "print(f'model status: {model.status}')\n",
    "print(f'model runtime: {model.runtime}')\n",
    "# use the syntax foo.x to access the optimal value of foo\n",
    "#print(f'x: {x.x}')\n",
    "#print(f'y: {y.x}')"
   ]
  }
 ],
 "metadata": {
  "kernelspec": {
   "display_name": "Python 3",
   "language": "python",
   "name": "python3"
  },
  "language_info": {
   "name": "python",
   "version": "3.11.1"
  },
  "orig_nbformat": 4,
  "vscode": {
   "interpreter": {
    "hash": "318f2c383d48220c821fefd227250c35bb828f95042f5889a5ad1704b1baf79c"
   }
  }
 },
 "nbformat": 4,
 "nbformat_minor": 2
}
